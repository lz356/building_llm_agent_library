{
 "cells": [
  {
   "cell_type": "markdown",
   "metadata": {
    "id": "CgLgfUb-9X4-"
   },
   "source": [
    "### Run in Google Colab\n",
    "\n",
    "Under Developement"
   ]
  },
  {
   "cell_type": "code",
   "execution_count": null,
   "metadata": {
    "id": "YdcbLq61902w"
   },
   "outputs": [],
   "source": []
  }
 ],
 "metadata": {
  "colab": {
   "provenance": []
  },
  "kernelspec": {
   "display_name": "Python 3",
   "name": "python3"
  },
  "language_info": {
   "name": "python"
  }
 },
 "nbformat": 4,
 "nbformat_minor": 0
}
